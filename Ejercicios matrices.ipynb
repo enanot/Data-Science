{
 "cells": [
  {
   "cell_type": "code",
   "execution_count": 49,
   "id": "ce0279a6-cd4c-4ca4-aa3e-68610ba5caa4",
   "metadata": {},
   "outputs": [
    {
     "name": "stdout",
     "output_type": "stream",
     "text": [
      "[[ 1  2  3  4]\n",
      " [ 5  6  7  8]\n",
      " [ 9 10 11 12]]\n",
      "-----------------------------------------------------\n"
     ]
    }
   ],
   "source": [
    "import numpy as np\n",
    "import time as t\n",
    "\n",
    "#Ejercicio 1\n",
    "\n",
    "#print(np.array([[1,2,3,4],[4,5,6,7],[8,9,10,11]]))\n",
    "\n",
    "a = np.arange(1,13,).reshape(3,4)\n",
    "print(a)\n",
    "print(\"-----------------------------------------------------\")\n",
    "\n"
   ]
  },
  {
   "cell_type": "code",
   "execution_count": 50,
   "id": "8d7d061f-0168-4379-88e5-ae2d2e420b7b",
   "metadata": {},
   "outputs": [
    {
     "name": "stdout",
     "output_type": "stream",
     "text": [
      "con for 10.367363691329956\n",
      "con sum 10.394366025924683\n",
      "[[61 26 77 ... 99 63 69]\n",
      " [78 20 89 ... 16 56 12]\n",
      " [72 65 65 ... 64 55 53]\n",
      " ...\n",
      " [36 19 56 ... 58 57  0]\n",
      " [39 26 14 ... 66 31 26]\n",
      " [42 84 52 ... 90 50 47]]\n",
      "1249791075\n",
      "1249791075\n",
      "-----------------------------------------------------\n"
     ]
    }
   ],
   "source": [
    "#Ejercicio 2\n",
    "colection = []\n",
    "\n",
    "colection2 = np.random.randint(0,101,[5000,5000])\n",
    "   \n",
    "a1 = t.time()\n",
    "sum = 0\n",
    "for i in range (5000):\n",
    "    for j in range(5000):\n",
    "        sum = colection2[i][j]+sum\n",
    "a2 = t.time()\n",
    "sum2 = np.sum(colection2)\n",
    "a3 = t.time()\n",
    "\n",
    "\n",
    "print(\"con for\", a2-a1 )\n",
    "print(\"con sum\", a3-a1)\n",
    "print(colection2)\n",
    "\n",
    "print (sum)\n",
    "\n",
    "print (sum2)\n",
    "\n",
    "print(\"-----------------------------------------------------\")\n"
   ]
  },
  {
   "cell_type": "code",
   "execution_count": 51,
   "id": "19fb2290-0475-4ec9-a80c-821eddd56c61",
   "metadata": {},
   "outputs": [
    {
     "name": "stdout",
     "output_type": "stream",
     "text": [
      "[[50 26 25 22 38]\n",
      " [29 40 41 34 11]\n",
      " [19 31 18  1 49]\n",
      " [33 29 23  1 46]\n",
      " [ 3 28 22 16 17]\n",
      " [30 40 46 42 26]\n",
      " [43 29 32 45 44]\n",
      " [37 24 37 38 10]\n",
      " [ 1 43 29 14  5]\n",
      " [ 4 13  2 40 25]]\n",
      "50\n",
      "1\n"
     ]
    }
   ],
   "source": [
    "#Ejercicio 3\n",
    "\n",
    "\n",
    "colection3 = np.random.randint(0,51,[10,5])\n",
    "max = np.max(colection3)\n",
    "min = np.min(colection3)\n",
    "\n",
    "print (colection3)\n",
    "\n",
    "print(max)\n",
    "\n",
    "print(min)"
   ]
  },
  {
   "cell_type": "code",
   "execution_count": null,
   "id": "c1daa52e-5044-4b39-85ca-b829da4316b7",
   "metadata": {},
   "outputs": [],
   "source": []
  }
 ],
 "metadata": {
  "kernelspec": {
   "display_name": "Python 3 (ipykernel)",
   "language": "python",
   "name": "python3"
  },
  "language_info": {
   "codemirror_mode": {
    "name": "ipython",
    "version": 3
   },
   "file_extension": ".py",
   "mimetype": "text/x-python",
   "name": "python",
   "nbconvert_exporter": "python",
   "pygments_lexer": "ipython3",
   "version": "3.12.4"
  }
 },
 "nbformat": 4,
 "nbformat_minor": 5
}
