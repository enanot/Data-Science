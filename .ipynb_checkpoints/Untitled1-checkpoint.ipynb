{
 "cells": [
  {
   "cell_type": "code",
   "execution_count": 13,
   "id": "ce0279a6-cd4c-4ca4-aa3e-68610ba5caa4",
   "metadata": {},
   "outputs": [
    {
     "name": "stdout",
     "output_type": "stream",
     "text": [
      "[[ 1  2  3  4]\n",
      " [ 5  6  7  8]\n",
      " [ 9 10 11 12]]\n",
      "-----------------------------------------------------\n"
     ]
    }
   ],
   "source": [
    "import numpy as np\n",
    "import time as t\n",
    "\n",
    "#Ejercicio 1\n",
    "\n",
    "#print(np.array([[1,2,3,4],[4,5,6,7],[8,9,10,11]]))\n",
    "\n",
    "a = np.arange(1,13,).reshape(3,4)\n",
    "print(a)\n",
    "print(\"-----------------------------------------------------\")\n",
    "\n"
   ]
  },
  {
   "cell_type": "code",
   "execution_count": 15,
   "id": "8d7d061f-0168-4379-88e5-ae2d2e420b7b",
   "metadata": {},
   "outputs": [
    {
     "name": "stdout",
     "output_type": "stream",
     "text": [
      "con for 10.10727334022522\n",
      "con sum 10.11427617073059\n",
      "[[62 59  3 ... 20 27 23]\n",
      " [32 73  4 ... 76 83 94]\n",
      " [33  4 26 ... 62 47  8]\n",
      " ...\n",
      " [84 42 87 ... 33 12 14]\n",
      " [67 15 94 ... 69 51 75]\n",
      " [34 40 83 ... 46 91 17]]\n",
      "1250067218\n",
      "1250067218\n",
      "-----------------------------------------------------\n"
     ]
    }
   ],
   "source": [
    "#Ejercicio 2\n",
    "colection = []\n",
    "\n",
    "colection2 = np.random.randint(0,101,[5,5])\n",
    "   \n",
    "a1 = t.time()\n",
    "sum = 0\n",
    "for i in range (5):\n",
    "    for j in range(5):\n",
    "        sum = colection2[i][j]+sum\n",
    "a2 = t.time()\n",
    "sum2 = np.sum(colection2)\n",
    "a3 = t.time()\n",
    "\n",
    "\n",
    "print(\"con for\", a2-a1 )\n",
    "print(\"con sum\", a3-a1)\n",
    "print(colection2)\n",
    "\n",
    "print (sum)\n",
    "\n",
    "print (sum2)\n",
    "\n",
    "print(\"-----------------------------------------------------\")\n"
   ]
  },
  {
   "cell_type": "code",
   "execution_count": 16,
   "id": "19fb2290-0475-4ec9-a80c-821eddd56c61",
   "metadata": {},
   "outputs": [
    {
     "name": "stdout",
     "output_type": "stream",
     "text": [
      "[[40  0 14 25  0]\n",
      " [29 24 31  8 12]\n",
      " [41 33 32 44  9]\n",
      " [30  8 27  4 50]\n",
      " [35  5  3 23 42]\n",
      " [45  6 39 48  9]\n",
      " [30 19  2 29 49]\n",
      " [50 41 45  6  0]\n",
      " [19  1  7 42 18]\n",
      " [12 39  2 16 46]]\n",
      "50\n",
      "0\n"
     ]
    }
   ],
   "source": [
    "#Ejercicio 3\n",
    "\n",
    "\n",
    "colection3 = np.random.randint(0,51,[10,5])\n",
    "max = np.max(colection3)\n",
    "min = np.min(colection3)\n",
    "\n",
    "print (colection3)\n",
    "\n",
    "print(max)\n",
    "\n",
    "print(min)"
   ]
  },
  {
   "cell_type": "code",
   "execution_count": null,
   "id": "c1daa52e-5044-4b39-85ca-b829da4316b7",
   "metadata": {},
   "outputs": [],
   "source": []
  }
 ],
 "metadata": {
  "kernelspec": {
   "display_name": "Python 3 (ipykernel)",
   "language": "python",
   "name": "python3"
  },
  "language_info": {
   "codemirror_mode": {
    "name": "ipython",
    "version": 3
   },
   "file_extension": ".py",
   "mimetype": "text/x-python",
   "name": "python",
   "nbconvert_exporter": "python",
   "pygments_lexer": "ipython3",
   "version": "3.12.4"
  }
 },
 "nbformat": 4,
 "nbformat_minor": 5
}
