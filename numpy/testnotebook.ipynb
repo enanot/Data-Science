{
 "cells": [
  {
   "cell_type": "markdown",
   "id": "b9fbc551-ee1d-4a1c-a7a5-e65bbfc5fd02",
   "metadata": {},
   "source": [
    "imports"
   ]
  },
  {
   "cell_type": "code",
   "execution_count": 2,
   "id": "9687fdb1-23b1-43b1-aad2-fbb9fcd41639",
   "metadata": {},
   "outputs": [],
   "source": [
    "import numpy as np\n"
   ]
  },
  {
   "cell_type": "markdown",
   "id": "64d6573b-6885-4743-bacc-cc7ef7d7647d",
   "metadata": {},
   "source": [
    "inicializacion arr1"
   ]
  },
  {
   "cell_type": "code",
   "execution_count": 4,
   "id": "9e69795c-4c2d-486c-938a-d7778c07cbd4",
   "metadata": {},
   "outputs": [],
   "source": [
    "arr1 = np.empty((4,6))\n",
    "arr1 = np.zeros((4,6))\n",
    "arr1 = np.full((4,6), 10)"
   ]
  },
  {
   "cell_type": "markdown",
   "id": "482b079b-5084-47d2-a637-cf406120030c",
   "metadata": {},
   "source": [
    "inicializacion arr2"
   ]
  },
  {
   "cell_type": "code",
   "execution_count": 6,
   "id": "01f410b0-521e-46e1-86ca-f5793ead777e",
   "metadata": {},
   "outputs": [],
   "source": [
    "arr2 = np.random.rand(4, 6)"
   ]
  },
  {
   "cell_type": "markdown",
   "id": "e45eb2d6-951f-4a04-8307-f28fea5c575b",
   "metadata": {},
   "source": [
    "inicializacion arr3"
   ]
  },
  {
   "cell_type": "code",
   "execution_count": 8,
   "id": "eba70dc4-94ca-408d-b21f-fcec5347198a",
   "metadata": {},
   "outputs": [],
   "source": [
    "arr3 = np.random.randint(0, 15, 24)\n",
    "arr3 = np.reshape(arr3, (3,8)) \n"
   ]
  },
  {
   "cell_type": "markdown",
   "id": "951dbbfd-835d-4481-af51-9196bd73d025",
   "metadata": {},
   "source": [
    "inicializacion lista"
   ]
  },
  {
   "cell_type": "code",
   "execution_count": 10,
   "id": "4de64d65-4e41-49dd-b827-33da79331d87",
   "metadata": {},
   "outputs": [],
   "source": [
    "list_add = [5,5,5,5,5,5,0,0,0]\n",
    "\n",
    "list1 = [1,2,3,4,5,6,7,8,9]\n",
    "list2 = [1,2,3,4,5,6,7,8,9]\n",
    "list3 = [1,2,3,4,5,6,7,8,9]\n",
    "list4 = [1,2,3,4,5,6,7,8,9]\n",
    "list5 = [1,2,3,4,5,6,7,8,9]\n",
    "list6 = [1,2,3,4,5,6,7,8,9]"
   ]
  },
  {
   "cell_type": "markdown",
   "id": "7f1f07a7-16e7-4f1e-a601-bb2203fe3cfe",
   "metadata": {},
   "source": [
    "creacions array 4"
   ]
  },
  {
   "cell_type": "code",
   "execution_count": 12,
   "id": "8e55af98-c749-4bfd-95dd-8ce42c8b2565",
   "metadata": {},
   "outputs": [],
   "source": [
    "arr4  = np.array([list1, list2, list3, list4, list5, list6])"
   ]
  },
  {
   "cell_type": "code",
   "execution_count": 13,
   "id": "06d4427c-0acd-458d-89d3-e6c6346a885d",
   "metadata": {},
   "outputs": [
    {
     "name": "stdout",
     "output_type": "stream",
     "text": [
      "[[ 5 10 15 20 25 30  0  0  0]\n",
      " [ 5 10 15 20 25 30  0  0  0]\n",
      " [ 5 10 15 20 25 30  0  0  0]\n",
      " [ 5 10 15 20 25 30  0  0  0]\n",
      " [ 5 10 15 20 25 30  0  0  0]\n",
      " [ 5 10 15 20 25 30  0  0  0]]\n"
     ]
    }
   ],
   "source": [
    "\n",
    "\n",
    "\n",
    "\n",
    "\n",
    "#arr3 = np.random.randint(0, 15, 24)\n",
    "#arr3 = arr3.reshape((4, 6)) # === arr3 = np.reshape(arr3, (4, 6)) \n",
    "\n",
    "\n",
    "\n",
    "\n",
    "\n",
    "# print(\"Size:\", arr4.size)\n",
    "# print(\"NDim:\", arr4.ndim)\n",
    "# print(\"Shape:\", arr4.shape)\n",
    "\n",
    "print(list_add * arr4)"
   ]
  }
 ],
 "metadata": {
  "kernelspec": {
   "display_name": "Python 3 (ipykernel)",
   "language": "python",
   "name": "python3"
  },
  "language_info": {
   "codemirror_mode": {
    "name": "ipython",
    "version": 3
   },
   "file_extension": ".py",
   "mimetype": "text/x-python",
   "name": "python",
   "nbconvert_exporter": "python",
   "pygments_lexer": "ipython3",
   "version": "3.12.4"
  }
 },
 "nbformat": 4,
 "nbformat_minor": 5
}
