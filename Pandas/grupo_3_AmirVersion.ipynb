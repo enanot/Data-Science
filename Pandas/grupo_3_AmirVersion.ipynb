{
 "cells": [
  {
   "cell_type": "code",
   "execution_count": 62,
   "metadata": {},
   "outputs": [],
   "source": [
    "import pandas as pd"
   ]
  },
  {
   "cell_type": "markdown",
   "metadata": {},
   "source": [
    "# 1. Importar el conjunto de datos de Población del INE:\n",
    "\n",
    "   - Utiliza la librería Pandas para importar el archivo CSV del conjunto 9689 - \"Población por provincia, sexo y edad\" del sitio web del INE.\n",
    "\n",
    "   2. Explorar y describir los datos:\n",
    "\n",
    "   - Visualiza las primeras 10 filas del dataset para familiarizarte con la estructura y contenido de los datos."
   ]
  },
  {
   "cell_type": "code",
   "execution_count": 63,
   "metadata": {},
   "outputs": [
    {
     "data": {
      "text/html": [
       "<div>\n",
       "<style scoped>\n",
       "    .dataframe tbody tr th:only-of-type {\n",
       "        vertical-align: middle;\n",
       "    }\n",
       "\n",
       "    .dataframe tbody tr th {\n",
       "        vertical-align: top;\n",
       "    }\n",
       "\n",
       "    .dataframe thead th {\n",
       "        text-align: right;\n",
       "    }\n",
       "</style>\n",
       "<table border=\"1\" class=\"dataframe\">\n",
       "  <thead>\n",
       "    <tr style=\"text-align: right;\">\n",
       "      <th></th>\n",
       "      <th>Provincias</th>\n",
       "      <th>Grupo quinquenal de edad</th>\n",
       "      <th>Nacionalidad</th>\n",
       "      <th>Sexo</th>\n",
       "      <th>Periodo</th>\n",
       "      <th>Total</th>\n",
       "    </tr>\n",
       "  </thead>\n",
       "  <tbody>\n",
       "    <tr>\n",
       "      <th>0</th>\n",
       "      <td>Total Nacional</td>\n",
       "      <td>Total</td>\n",
       "      <td>Total</td>\n",
       "      <td>Ambos sexos</td>\n",
       "      <td>1 de julio de 2022</td>\n",
       "      <td>47.615.033,864697</td>\n",
       "    </tr>\n",
       "    <tr>\n",
       "      <th>1</th>\n",
       "      <td>Total Nacional</td>\n",
       "      <td>Total</td>\n",
       "      <td>Total</td>\n",
       "      <td>Ambos sexos</td>\n",
       "      <td>1 de enero de 2022</td>\n",
       "      <td>47.432.892,943294</td>\n",
       "    </tr>\n",
       "    <tr>\n",
       "      <th>2</th>\n",
       "      <td>Total Nacional</td>\n",
       "      <td>Total</td>\n",
       "      <td>Total</td>\n",
       "      <td>Ambos sexos</td>\n",
       "      <td>1 de julio de 2021</td>\n",
       "      <td>47.331.301,774407</td>\n",
       "    </tr>\n",
       "    <tr>\n",
       "      <th>3</th>\n",
       "      <td>Total Nacional</td>\n",
       "      <td>Total</td>\n",
       "      <td>Total</td>\n",
       "      <td>Ambos sexos</td>\n",
       "      <td>1 de enero de 2021</td>\n",
       "      <td>47.398.694,945392</td>\n",
       "    </tr>\n",
       "    <tr>\n",
       "      <th>4</th>\n",
       "      <td>Total Nacional</td>\n",
       "      <td>Total</td>\n",
       "      <td>Total</td>\n",
       "      <td>Ambos sexos</td>\n",
       "      <td>1 de julio de 2020</td>\n",
       "      <td>47.355.684,576847</td>\n",
       "    </tr>\n",
       "    <tr>\n",
       "      <th>5</th>\n",
       "      <td>Total Nacional</td>\n",
       "      <td>Total</td>\n",
       "      <td>Total</td>\n",
       "      <td>Ambos sexos</td>\n",
       "      <td>1 de enero de 2020</td>\n",
       "      <td>47.332.613,88819</td>\n",
       "    </tr>\n",
       "    <tr>\n",
       "      <th>6</th>\n",
       "      <td>Total Nacional</td>\n",
       "      <td>Total</td>\n",
       "      <td>Total</td>\n",
       "      <td>Ambos sexos</td>\n",
       "      <td>1 de julio de 2019</td>\n",
       "      <td>47.105.358,373156</td>\n",
       "    </tr>\n",
       "    <tr>\n",
       "      <th>7</th>\n",
       "      <td>Total Nacional</td>\n",
       "      <td>Total</td>\n",
       "      <td>Total</td>\n",
       "      <td>Ambos sexos</td>\n",
       "      <td>1 de enero de 2019</td>\n",
       "      <td>46.937.059,877999</td>\n",
       "    </tr>\n",
       "    <tr>\n",
       "      <th>8</th>\n",
       "      <td>Total Nacional</td>\n",
       "      <td>Total</td>\n",
       "      <td>Total</td>\n",
       "      <td>Ambos sexos</td>\n",
       "      <td>1 de julio de 2018</td>\n",
       "      <td>46.728.814,005226</td>\n",
       "    </tr>\n",
       "    <tr>\n",
       "      <th>9</th>\n",
       "      <td>Total Nacional</td>\n",
       "      <td>Total</td>\n",
       "      <td>Total</td>\n",
       "      <td>Ambos sexos</td>\n",
       "      <td>1 de enero de 2018</td>\n",
       "      <td>46.658.446,57237</td>\n",
       "    </tr>\n",
       "  </tbody>\n",
       "</table>\n",
       "</div>"
      ],
      "text/plain": [
       "       Provincias Grupo quinquenal de edad Nacionalidad         Sexo  \\\n",
       "0  Total Nacional                    Total        Total  Ambos sexos   \n",
       "1  Total Nacional                    Total        Total  Ambos sexos   \n",
       "2  Total Nacional                    Total        Total  Ambos sexos   \n",
       "3  Total Nacional                    Total        Total  Ambos sexos   \n",
       "4  Total Nacional                    Total        Total  Ambos sexos   \n",
       "5  Total Nacional                    Total        Total  Ambos sexos   \n",
       "6  Total Nacional                    Total        Total  Ambos sexos   \n",
       "7  Total Nacional                    Total        Total  Ambos sexos   \n",
       "8  Total Nacional                    Total        Total  Ambos sexos   \n",
       "9  Total Nacional                    Total        Total  Ambos sexos   \n",
       "\n",
       "              Periodo              Total  \n",
       "0  1 de julio de 2022  47.615.033,864697  \n",
       "1  1 de enero de 2022  47.432.892,943294  \n",
       "2  1 de julio de 2021  47.331.301,774407  \n",
       "3  1 de enero de 2021  47.398.694,945392  \n",
       "4  1 de julio de 2020  47.355.684,576847  \n",
       "5  1 de enero de 2020   47.332.613,88819  \n",
       "6  1 de julio de 2019  47.105.358,373156  \n",
       "7  1 de enero de 2019  46.937.059,877999  \n",
       "8  1 de julio de 2018  46.728.814,005226  \n",
       "9  1 de enero de 2018   46.658.446,57237  "
      ]
     },
     "execution_count": 63,
     "metadata": {},
     "output_type": "execute_result"
    }
   ],
   "source": [
    "df= pd.read_csv('./data/9689.csv', sep= ';')\n",
    "df.head(10)\n",
    "# pd.set_option('display.max_rows', None)\n"
   ]
  },
  {
   "cell_type": "markdown",
   "metadata": {},
   "source": [
    "# 2. Explorar y describir los datos: \n",
    "\n",
    "   - ## Visualiza las primeras 10 filas del dataset para familiarizarte con la estructura y contenido de los datos.\n",
    "\n",
    "   - Identifica los tipos de datos de cada columna y asegúrate de que están correctamente asignados.\n",
    "\n",
    "   - Calcula y reporta la media, mediana, desviación estándar, y valores mínimo y máximo de las siguientes variables:\n",
    "\n",
    "     - Población total\n",
    "\n",
    "     - Población por sexo (masculina y femenina)"
   ]
  },
  {
   "cell_type": "markdown",
   "metadata": {},
   "source": [
    "Eliminar las filas con valor invalido de 'Total'\n",
    "###    - Identifica los tipos de datos de cada columna y asegúrate de que están correctamente asignados."
   ]
  },
  {
   "cell_type": "code",
   "execution_count": 64,
   "metadata": {},
   "outputs": [
    {
     "name": "stdout",
     "output_type": "stream",
     "text": [
      "       Provincias Grupo quinquenal de edad Nacionalidad         Sexo  \\\n",
      "0  Total Nacional                    Total        Total  Ambos sexos   \n",
      "1  Total Nacional                    Total        Total  Ambos sexos   \n",
      "2  Total Nacional                    Total        Total  Ambos sexos   \n",
      "3  Total Nacional                    Total        Total  Ambos sexos   \n",
      "4  Total Nacional                    Total        Total  Ambos sexos   \n",
      "5  Total Nacional                    Total        Total  Ambos sexos   \n",
      "6  Total Nacional                    Total        Total  Ambos sexos   \n",
      "7  Total Nacional                    Total        Total  Ambos sexos   \n",
      "8  Total Nacional                    Total        Total  Ambos sexos   \n",
      "9  Total Nacional                    Total        Total  Ambos sexos   \n",
      "\n",
      "              Periodo              Total  \n",
      "0  1 de julio de 2022  47.615.033,864697  \n",
      "1  1 de enero de 2022  47.432.892,943294  \n",
      "2  1 de julio de 2021  47.331.301,774407  \n",
      "3  1 de enero de 2021  47.398.694,945392  \n",
      "4  1 de julio de 2020  47.355.684,576847  \n",
      "5  1 de enero de 2020   47.332.613,88819  \n",
      "6  1 de julio de 2019  47.105.358,373156  \n",
      "7  1 de enero de 2019  46.937.059,877999  \n",
      "8  1 de julio de 2018  46.728.814,005226  \n",
      "9  1 de enero de 2018   46.658.446,57237  \n"
     ]
    }
   ],
   "source": [
    "# # null_rows= df.query('Total<1')\n",
    "# print(null_rows)\n",
    "df.dropna(inplace= True, axis= 0)\n",
    "print(df.head(10))\n",
    "df.to_csv('./data/valid_df.csv', sep= ';')"
   ]
  },
  {
   "cell_type": "markdown",
   "metadata": {},
   "source": [
    "   ### Identifica los tipos de datos de cada columna y asegúrate de que están correctamente asignados."
   ]
  },
  {
   "cell_type": "code",
   "execution_count": 65,
   "metadata": {},
   "outputs": [
    {
     "name": "stdout",
     "output_type": "stream",
     "text": [
      "<class 'pandas.core.frame.DataFrame'>\n",
      "Index: 1469160 entries, 0 to 1736279\n",
      "Data columns (total 6 columns):\n",
      " #   Column                    Non-Null Count    Dtype \n",
      "---  ------                    --------------    ----- \n",
      " 0   Provincias                1469160 non-null  object\n",
      " 1   Grupo quinquenal de edad  1469160 non-null  object\n",
      " 2   Nacionalidad              1469160 non-null  object\n",
      " 3   Sexo                      1469160 non-null  object\n",
      " 4   Periodo                   1469160 non-null  object\n",
      " 5   Total                     1469160 non-null  object\n",
      "dtypes: object(6)\n",
      "memory usage: 78.5+ MB\n"
     ]
    }
   ],
   "source": [
    "df.info()\n",
    "\n",
    "def Eliminar_coma(st):\n",
    "    try:\n",
    "        st= st.replace('.','')\n",
    "        pos= st.rfind(',')\n",
    "        if (0<= pos):\n",
    "            return int(st[0: pos])\n",
    "        else:\n",
    "            return int(st)\n",
    "    except:\n",
    "        print('________________________________________________')\n",
    "        print(st)\n",
    "\n",
    "df['Total']=df['Total'].apply(Eliminar_coma)\n"
   ]
  },
  {
   "cell_type": "code",
   "execution_count": 66,
   "metadata": {},
   "outputs": [
    {
     "name": "stdout",
     "output_type": "stream",
     "text": [
      "             Provincias Grupo quinquenal de edad Nacionalidad         Sexo  \\\n",
      "0        Total Nacional                    Total        Total  Ambos sexos   \n",
      "1        Total Nacional                    Total        Total  Ambos sexos   \n",
      "2        Total Nacional                    Total        Total  Ambos sexos   \n",
      "3        Total Nacional                    Total        Total  Ambos sexos   \n",
      "4        Total Nacional                    Total        Total  Ambos sexos   \n",
      "...                 ...                      ...          ...          ...   \n",
      "1736275      52 Melilla            90 y más años    Apátridas      Mujeres   \n",
      "1736276      52 Melilla            90 y más años    Apátridas      Mujeres   \n",
      "1736277      52 Melilla            90 y más años    Apátridas      Mujeres   \n",
      "1736278      52 Melilla            90 y más años    Apátridas      Mujeres   \n",
      "1736279      52 Melilla            90 y más años    Apátridas      Mujeres   \n",
      "\n",
      "                    Periodo     Total  \n",
      "0        1 de julio de 2022  47615033  \n",
      "1        1 de enero de 2022  47432892  \n",
      "2        1 de julio de 2021  47331301  \n",
      "3        1 de enero de 2021  47398694  \n",
      "4        1 de julio de 2020  47355684  \n",
      "...                     ...       ...  \n",
      "1736275  1 de enero de 2004         0  \n",
      "1736276  1 de julio de 2003         0  \n",
      "1736277  1 de enero de 2003         0  \n",
      "1736278  1 de julio de 2002         0  \n",
      "1736279  1 de enero de 2002         0  \n",
      "\n",
      "[1469160 rows x 6 columns]\n",
      "<class 'pandas.core.frame.DataFrame'>\n",
      "Index: 1469160 entries, 0 to 1736279\n",
      "Data columns (total 6 columns):\n",
      " #   Column                    Non-Null Count    Dtype \n",
      "---  ------                    --------------    ----- \n",
      " 0   Provincias                1469160 non-null  object\n",
      " 1   Grupo quinquenal de edad  1469160 non-null  object\n",
      " 2   Nacionalidad              1469160 non-null  object\n",
      " 3   Sexo                      1469160 non-null  object\n",
      " 4   Periodo                   1469160 non-null  object\n",
      " 5   Total                     1469160 non-null  int64 \n",
      "dtypes: int64(1), object(5)\n",
      "memory usage: 78.5+ MB\n"
     ]
    }
   ],
   "source": [
    "print(df)\n",
    "df.info()\n",
    "pure_df = df.query('Periodo.str.contains(\"enero\")')\n",
    "#sub_df['Periodo']=df['Periodo'].apply(lambda x: x[-4:])\n",
    "#sub_df\n",
    "# sub_df= df.loc[(df['Periodo']== '1 de enero de 2019') | (df['Periodo']== '1 de enero de 2022')]\n",
    "# sub_df.head(10)"
   ]
  },
  {
   "cell_type": "code",
   "execution_count": 67,
   "metadata": {},
   "outputs": [
    {
     "name": "stdout",
     "output_type": "stream",
     "text": [
      "_________________________________________________________________________________\n",
      "       Provincias Grupo quinquenal de edad Nacionalidad         Sexo  \\\n",
      "1  Total Nacional                    Total        Total  Ambos sexos   \n",
      "3  Total Nacional                    Total        Total  Ambos sexos   \n",
      "5  Total Nacional                    Total        Total  Ambos sexos   \n",
      "7  Total Nacional                    Total        Total  Ambos sexos   \n",
      "9  Total Nacional                    Total        Total  Ambos sexos   \n",
      "\n",
      "              Periodo     Total  \n",
      "1  1 de enero de 2022  47432892  \n",
      "3  1 de enero de 2021  47398694  \n",
      "5  1 de enero de 2020  47332613  \n",
      "7  1 de enero de 2019  46937059  \n",
      "9  1 de enero de 2018  46658446  \n",
      "_________________________________________________________________________________\n",
      "        Provincias Grupo quinquenal de edad Nacionalidad     Sexo  \\\n",
      "43  Total Nacional                    Total        Total  Hombres   \n",
      "45  Total Nacional                    Total        Total  Hombres   \n",
      "47  Total Nacional                    Total        Total  Hombres   \n",
      "49  Total Nacional                    Total        Total  Hombres   \n",
      "51  Total Nacional                    Total        Total  Hombres   \n",
      "\n",
      "               Periodo     Total  \n",
      "43  1 de enero de 2022  23237151  \n",
      "45  1 de enero de 2021  23227282  \n",
      "47  1 de enero de 2020  23199313  \n",
      "49  1 de enero de 2019  23009258  \n",
      "51  1 de enero de 2018  22881881  \n",
      "_________________________________________________________________________________\n",
      "        Provincias Grupo quinquenal de edad Nacionalidad     Sexo  \\\n",
      "85  Total Nacional                    Total        Total  Mujeres   \n",
      "87  Total Nacional                    Total        Total  Mujeres   \n",
      "89  Total Nacional                    Total        Total  Mujeres   \n",
      "91  Total Nacional                    Total        Total  Mujeres   \n",
      "93  Total Nacional                    Total        Total  Mujeres   \n",
      "\n",
      "               Periodo     Total  \n",
      "85  1 de enero de 2022  24195741  \n",
      "87  1 de enero de 2021  24171412  \n",
      "89  1 de enero de 2020  24133300  \n",
      "91  1 de enero de 2019  23927801  \n",
      "93  1 de enero de 2018  23776564  \n",
      "_________________________________________________________________________________\n"
     ]
    }
   ],
   "source": [
    "print('_________________________________________________________________________________')\n",
    "total_df= pure_df.loc[(df['Provincias']== 'Total Nacional') & (df['Grupo quinquenal de edad']== 'Total') \\\n",
    "                 & (df['Nacionalidad']== 'Total') & (df['Sexo']=='Ambos sexos')]\n",
    "temp= total_df.head(5)\n",
    "print(temp)\n",
    "print('_________________________________________________________________________________')\n",
    "hom_df= pure_df.loc[(df['Provincias']== 'Total Nacional') & (df['Grupo quinquenal de edad']== 'Total') \\\n",
    "                 & (df['Nacionalidad']== 'Total') & (df['Sexo']== 'Hombres')]\n",
    "temp= hom_df.head(5)\n",
    "print(temp)\n",
    "print('_________________________________________________________________________________')\n",
    "muj_df= pure_df.loc[(df['Provincias']== 'Total Nacional') & (df['Grupo quinquenal de edad']== 'Total') \\\n",
    "                 & (df['Nacionalidad']== 'Total') & (df['Sexo']== 'Mujeres')]\n",
    "temp= muj_df.head(5)\n",
    "print(temp)\n",
    "print('_________________________________________________________________________________')"
   ]
  },
  {
   "cell_type": "markdown",
   "metadata": {},
   "source": [
    "### - Calcula y reporta la media, mediana, desviación estándar, y valores mínimo y máximo de las siguientes variables:\n",
    "\n",
    "     - Población total\n",
    "\n",
    "     - Población por sexo (masculina y femenina)"
   ]
  },
  {
   "cell_type": "markdown",
   "metadata": {},
   "source": [
    "### Calcular los prarmetros por toda la población"
   ]
  },
  {
   "cell_type": "code",
   "execution_count": 68,
   "metadata": {},
   "outputs": [
    {
     "name": "stdout",
     "output_type": "stream",
     "text": [
      "la media de total= 45609439.571428575\n",
      "la mediana de total= 46486621.0\n",
      "std de total= 1918337.5149562072\n",
      "max de total= 47432892\n",
      "min de total= 41035270\n"
     ]
    }
   ],
   "source": [
    "total_media= total_df.loc[:, 'Total'].mean()\n",
    "print(f'la media de total= {total_media}')\n",
    "total_mediana= total_df.loc[:, 'Total'].median()\n",
    "print(f'la mediana de total= {total_mediana}')\n",
    "total_std= total_df.loc[:, 'Total'].std()\n",
    "print(f'std de total= {total_std}')\n",
    "total_max= total_df.loc[:, 'Total'].max()\n",
    "print(f'max de total= {total_max}')\n",
    "total_min= total_df.loc[:, 'Total'].min()\n",
    "print(f'min de total= {total_min}')\n"
   ]
  },
  {
   "cell_type": "markdown",
   "metadata": {},
   "source": [
    "### Calcular los prarmetros por las mujeres"
   ]
  },
  {
   "cell_type": "code",
   "execution_count": 69,
   "metadata": {},
   "outputs": [
    {
     "name": "stdout",
     "output_type": "stream",
     "text": [
      "la media de mujeres= 23167665.38095238\n",
      "la mediana de mujeres= 23623018.0\n",
      "std de mujeres= 981874.4531849007\n",
      "max de mujeres= 24195741\n",
      "min de mujeres= 20919749\n"
     ]
    }
   ],
   "source": [
    "muj_media= muj_df.loc[:, 'Total'].mean()\n",
    "print(f'la media de mujeres= {muj_media}')\n",
    "muj_mediana= muj_df.loc[:, 'Total'].median()\n",
    "print(f'la mediana de mujeres= {muj_mediana}')\n",
    "muj_std= muj_df.loc[:, 'Total'].std()\n",
    "print(f'std de mujeres= {muj_std}')\n",
    "muj_max= muj_df.loc[:, 'Total'].max()\n",
    "print(f'max de mujeres= {muj_max}')\n",
    "muj_min= muj_df.loc[:, 'Total'].min()\n",
    "print(f'min de mujeres= {muj_min}')"
   ]
  },
  {
   "cell_type": "markdown",
   "metadata": {},
   "source": [
    "### Calcular los prarmetros por los hombres"
   ]
  },
  {
   "cell_type": "code",
   "execution_count": 70,
   "metadata": {},
   "outputs": [
    {
     "name": "stdout",
     "output_type": "stream",
     "text": [
      "la media de hombres= 22441773.714285713\n",
      "la mediana de hombres= 22877461.0\n",
      "std de hombres= 942764.7259211146\n",
      "max de hombres= 23237151\n",
      "min de hombres= 20115521\n"
     ]
    }
   ],
   "source": [
    "hom_media= hom_df.loc[:, 'Total'].mean()\n",
    "print(f'la media de hombres= {hom_media}')\n",
    "hom_mediana= hom_df.loc[:, 'Total'].median()\n",
    "print(f'la mediana de hombres= {hom_mediana}')\n",
    "hom_std= hom_df.loc[:, 'Total'].std()\n",
    "print(f'std de hombres= {hom_std}')\n",
    "hom_max= hom_df.loc[:, 'Total'].max()\n",
    "print(f'max de hombres= {hom_max}')\n",
    "hom_min= hom_df.loc[:, 'Total'].min()\n",
    "print(f'min de hombres= {hom_min}')"
   ]
  },
  {
   "cell_type": "markdown",
   "metadata": {},
   "source": [
    "# 3. Análisis y transformaciones de datos:\n",
    "\n",
    "   - Identifica y maneja adecuadamente cualquier valor faltante en el dataset.\n",
    "\n",
    "   - Calcula la Tasa de Variación Anual de la Población total (*1) entre los años 2019 y 2022.\n",
    "\n",
    "   - Genera un gráfico de líneas que muestre la evolución de la población total a lo largo del tiempo.\n",
    "\n",
    "   - Calcula la Tasa de Dependencia Demográfica (*2) y analiza su evolución en el período 2019-2022.\n",
    "\n",
    "   - Genera un gráfico de barras que muestre la distribución de la población por grupos de edad (0-14, 15-64, 65 y más) para el año 2022."
   ]
  },
  {
   "cell_type": "markdown",
   "metadata": {},
   "source": [
    "   - Identifica y maneja adecuadamente cualquier valor faltante en el dataset.\n"
   ]
  },
  {
   "cell_type": "markdown",
   "metadata": {},
   "source": [
    "### (*1) Tasa de variación anual de la población\n",
    "\n",
    "Se trata de un indicador que mide el cambio porcentual de la población entre dos períodos distintos.\n",
    "\n",
    "\n",
    "Para calcular la tasa de variación anual de la población entre dos períodos hay que identificar los valores de población total en cada periodo y aplicar la siguiente fórmula. \n",
    "\n",
    "\n",
    "Tasa de variación anual = ((Población P1 - Población P2) / Población P1) * 100 "
   ]
  },
  {
   "cell_type": "code",
   "execution_count": 77,
   "metadata": {},
   "outputs": [
    {
     "name": "stdout",
     "output_type": "stream",
     "text": [
      "       Provincias Grupo quinquenal de edad Nacionalidad         Sexo  \\\n",
      "7  Total Nacional                    Total        Total  Ambos sexos   \n",
      "\n",
      "              Periodo     Total  \n",
      "7  1 de enero de 2019  46937059  \n",
      "       Provincias Grupo quinquenal de edad Nacionalidad         Sexo  \\\n",
      "1  Total Nacional                    Total        Total  Ambos sexos   \n",
      "\n",
      "              Periodo     Total  \n",
      "1  1 de enero de 2022  47432892  \n",
      "47432892.0\n",
      "tva= 1.0563785004083874\n"
     ]
    },
    {
     "name": "stderr",
     "output_type": "stream",
     "text": [
      "/tmp/ipykernel_26597/4070122400.py:7: FutureWarning: Calling float on a single element Series is deprecated and will raise a TypeError in the future. Use float(ser.iloc[0]) instead\n",
      "  x1= float(df_2022['Total'])\n",
      "/tmp/ipykernel_26597/4070122400.py:8: FutureWarning: Calling float on a single element Series is deprecated and will raise a TypeError in the future. Use float(ser.iloc[0]) instead\n",
      "  x2= float(df_2019['Total'])\n"
     ]
    }
   ],
   "source": [
    "df_2019= pure_df.loc[(df['Provincias']== 'Total Nacional') & (df['Grupo quinquenal de edad']== 'Total') \\\n",
    "    & (df['Nacionalidad']== 'Total') & (df['Sexo']== 'Ambos sexos') & (df['Periodo']== '1 de enero de 2019')]\n",
    "df_2022= pure_df.loc[(df['Provincias']== 'Total Nacional') & (df['Grupo quinquenal de edad']== 'Total') \\\n",
    "    & (df['Nacionalidad']== 'Total') & (df['Sexo']== 'Ambos sexos') & (df['Periodo']== '1 de enero de 2022')]\n",
    "print(df_2019)\n",
    "print(df_2022)\n",
    "x1= float(df_2022['Total'])\n",
    "x2= float(df_2019['Total'])\n",
    "print(x1)\n",
    "tva= 100*(x1- x2)/x2\n",
    "print(f'tva= {tva}')\n"
   ]
  },
  {
   "cell_type": "markdown",
   "metadata": {},
   "source": [
    "# (*2) Tasa de dependencia demográfica\n",
    "\n",
    "Esta tasa se representa por un porcentaje sobre la población activa o en edad de trabajar por un periodo predeterminado. Para su cálculo, debemos dividir el número de personas “dependientes” (osea las que tienen entre 0 y 14 años más los mayores de 65 años) entre el número de personas “activas” (osea que tienen entre 15 y 64 años) y representar el valor final en porcentaje.\n",
    "\n",
    "Cuanto más elevado sea el porcentaje de la tasa de dependencia, mayor será la carga que soporta la población activa para mantener a la población que depende de ellos. Si, por el contrario, la tasa es menor, la carga para la población activa o productiva se va a reducir."
   ]
  },
  {
   "cell_type": "markdown",
   "metadata": {},
   "source": [
    "Distribución de la población de 2022"
   ]
  },
  {
   "cell_type": "code",
   "execution_count": 78,
   "metadata": {},
   "outputs": [
    {
     "name": "stdout",
     "output_type": "stream",
     "text": [
      "          Provincias Grupo quinquenal de edad Nacionalidad         Sexo  \\\n",
      "1639  Total Nacional            De 0 a 4 años        Total  Ambos sexos   \n",
      "3277  Total Nacional            De 5 a 9 años        Total  Ambos sexos   \n",
      "4915  Total Nacional          De 10 a 14 años        Total  Ambos sexos   \n",
      "\n",
      "                 Periodo    Total  \n",
      "1639  1 de enero de 2022  1845881  \n",
      "3277  1 de enero de 2022  2253408  \n",
      "4915  1 de enero de 2022  2528648  \n",
      "           Provincias Grupo quinquenal de edad Nacionalidad         Sexo  \\\n",
      "6553   Total Nacional          De 15 a 19 años        Total  Ambos sexos   \n",
      "8191   Total Nacional          De 20 a 24 años        Total  Ambos sexos   \n",
      "9829   Total Nacional          De 25 a 29 años        Total  Ambos sexos   \n",
      "11467  Total Nacional          De 30 a 34 años        Total  Ambos sexos   \n",
      "13105  Total Nacional          De 35 a 39 años        Total  Ambos sexos   \n",
      "14743  Total Nacional          De 40 a 44 años        Total  Ambos sexos   \n",
      "16381  Total Nacional          De 45 a 49 años        Total  Ambos sexos   \n",
      "18019  Total Nacional          De 50 a 54 años        Total  Ambos sexos   \n",
      "19657  Total Nacional          De 55 a 59 años        Total  Ambos sexos   \n",
      "21295  Total Nacional          De 60 a 64 años        Total  Ambos sexos   \n",
      "\n",
      "                  Periodo    Total  \n",
      "6553   1 de enero de 2022  2488948  \n",
      "8191   1 de enero de 2022  2428335  \n",
      "9829   1 de enero de 2022  2514689  \n",
      "11467  1 de enero de 2022  2713292  \n",
      "13105  1 de enero de 2022  3072808  \n",
      "14743  1 de enero de 2022  3765009  \n",
      "16381  1 de enero de 2022  3972254  \n",
      "18019  1 de enero de 2022  3734107  \n",
      "19657  1 de enero de 2022  3494843  \n",
      "21295  1 de enero de 2022  3094035  \n",
      "           Provincias Grupo quinquenal de edad Nacionalidad         Sexo  \\\n",
      "22933  Total Nacional          De 65 a 69 años        Total  Ambos sexos   \n",
      "24571  Total Nacional          De 70 a 74 años        Total  Ambos sexos   \n",
      "26209  Total Nacional          De 75 a 79 años        Total  Ambos sexos   \n",
      "27847  Total Nacional          De 80 a 84 años        Total  Ambos sexos   \n",
      "29485  Total Nacional          De 85 a 89 años        Total  Ambos sexos   \n",
      "31123  Total Nacional            90 y más años        Total  Ambos sexos   \n",
      "\n",
      "                  Periodo    Total  \n",
      "22933  1 de enero de 2022  2555130  \n",
      "24571  1 de enero de 2022  2236191  \n",
      "26209  1 de enero de 2022  1852020  \n",
      "27847  1 de enero de 2022  1267167  \n",
      "29485  1 de enero de 2022  1011683  \n",
      "31123  1 de enero de 2022   604436  \n",
      "número de los niños= 6627937\n",
      "número de población activa= 31278320\n",
      "número de los jubilados= 9526627\n"
     ]
    }
   ],
   "source": [
    "temp=pure_df.loc[(df['Provincias']== 'Total Nacional') & \\\n",
    "     (df['Nacionalidad']== 'Total') & (df['Sexo']== 'Ambos sexos') & \\\n",
    "        (df['Periodo']== '1 de enero de 2022')]\n",
    "kids_2022= temp.loc[(temp['Grupo quinquenal de edad']== 'De 0 a 4 años') | \\\n",
    "                       (temp['Grupo quinquenal de edad']== 'De 5 a 9 años') | \\\n",
    "                        (temp['Grupo quinquenal de edad']== 'De 10 a 14 años')]\n",
    "print(kids_2022)\n",
    "num_kids_2022= kids_2022['Total'].sum()\n",
    "\n",
    "active_pplton_2022= temp.loc[(temp['Grupo quinquenal de edad']== 'De 15 a 19 años') | \\\n",
    "                       (temp['Grupo quinquenal de edad']== 'De 20 a 24 años') | \\\n",
    "                        (temp['Grupo quinquenal de edad']== 'De 25 a 29 años') | \\\n",
    "                        (temp['Grupo quinquenal de edad']== 'De 30 a 34 años') | \\\n",
    "                        (temp['Grupo quinquenal de edad']== 'De 35 a 39 años') | \\\n",
    "                        (temp['Grupo quinquenal de edad']== 'De 40 a 44 años') | \\\n",
    "                        (temp['Grupo quinquenal de edad']== 'De 45 a 49 años') | \\\n",
    "                        (temp['Grupo quinquenal de edad']== 'De 50 a 54 años') | \\\n",
    "                        (temp['Grupo quinquenal de edad']== 'De 55 a 59 años') | \\\n",
    "                        (temp['Grupo quinquenal de edad']== 'De 60 a 64 años')]\n",
    "print(active_pplton_2022)\n",
    "num_active_pplton_2022= active_pplton_2022['Total'].sum()\n",
    "\n",
    "retired_pplton_2022= temp.loc[(temp['Grupo quinquenal de edad']== 'De 65 a 69 años') | \\\n",
    "                       (temp['Grupo quinquenal de edad']== 'De 70 a 74 años') | \\\n",
    "                        (temp['Grupo quinquenal de edad']== 'De 75 a 79 años') | \\\n",
    "                        (temp['Grupo quinquenal de edad']== 'De 80 a 84 años') | \\\n",
    "                        (temp['Grupo quinquenal de edad']== 'De 85 a 89 años') |\\\n",
    "                        (temp['Grupo quinquenal de edad']== '90 y más años')] \n",
    "print(retired_pplton_2022)\n",
    "num_retired_pplton_2022= retired_pplton_2022['Total'].sum()\n",
    "\n",
    "print(f'número de los niños= {num_kids_2022}')\n",
    "print(f'número de población activa= {num_active_pplton_2022}')\n",
    "print(f'número de los jubilados= {num_retired_pplton_2022}')"
   ]
  },
  {
   "cell_type": "markdown",
   "metadata": {},
   "source": [
    "Distribución de la población de 2019"
   ]
  },
  {
   "cell_type": "code",
   "execution_count": 86,
   "metadata": {},
   "outputs": [
    {
     "name": "stdout",
     "output_type": "stream",
     "text": [
      "          Provincias Grupo quinquenal de edad Nacionalidad         Sexo  \\\n",
      "1645  Total Nacional            De 0 a 4 años        Total  Ambos sexos   \n",
      "3283  Total Nacional            De 5 a 9 años        Total  Ambos sexos   \n",
      "4921  Total Nacional          De 10 a 14 años        Total  Ambos sexos   \n",
      "\n",
      "                 Periodo    Total  \n",
      "1645  1 de enero de 2019  2067503  \n",
      "3283  1 de enero de 2019  2356886  \n",
      "4921  1 de enero de 2019  2505728  \n",
      "           Provincias Grupo quinquenal de edad Nacionalidad         Sexo  \\\n",
      "6559   Total Nacional          De 15 a 19 años        Total  Ambos sexos   \n",
      "8197   Total Nacional          De 20 a 24 años        Total  Ambos sexos   \n",
      "9835   Total Nacional          De 25 a 29 años        Total  Ambos sexos   \n",
      "11473  Total Nacional          De 30 a 34 años        Total  Ambos sexos   \n",
      "13111  Total Nacional          De 35 a 39 años        Total  Ambos sexos   \n",
      "14749  Total Nacional          De 40 a 44 años        Total  Ambos sexos   \n",
      "16387  Total Nacional          De 45 a 49 años        Total  Ambos sexos   \n",
      "18025  Total Nacional          De 50 a 54 años        Total  Ambos sexos   \n",
      "19663  Total Nacional          De 55 a 59 años        Total  Ambos sexos   \n",
      "21301  Total Nacional          De 60 a 64 años        Total  Ambos sexos   \n",
      "\n",
      "                  Periodo    Total  \n",
      "6559   1 de enero de 2019  2332160  \n",
      "8197   1 de enero de 2019  2288321  \n",
      "9835   1 de enero de 2019  2525119  \n",
      "11473  1 de enero de 2019  2801658  \n",
      "13111  1 de enero de 2019  3436404  \n",
      "14749  1 de enero de 2019  3984579  \n",
      "16387  1 de enero de 2019  3812140  \n",
      "18025  1 de enero de 2019  3640086  \n",
      "19663  1 de enero de 2019  3273516  \n",
      "21301  1 de enero de 2019  2807379  \n",
      "           Provincias Grupo quinquenal de edad Nacionalidad         Sexo  \\\n",
      "22939  Total Nacional          De 65 a 69 años        Total  Ambos sexos   \n",
      "24577  Total Nacional          De 70 a 74 años        Total  Ambos sexos   \n",
      "26215  Total Nacional          De 75 a 79 años        Total  Ambos sexos   \n",
      "27853  Total Nacional          De 80 a 84 años        Total  Ambos sexos   \n",
      "29491  Total Nacional          De 85 a 89 años        Total  Ambos sexos   \n",
      "31129  Total Nacional            90 y más años        Total  Ambos sexos   \n",
      "\n",
      "                  Periodo    Total  \n",
      "22939  1 de enero de 2019  2406253  \n",
      "24577  1 de enero de 2019  2187985  \n",
      "26215  1 de enero de 2019  1630452  \n",
      "27853  1 de enero de 2019  1363067  \n",
      "29491  1 de enero de 2019   980624  \n",
      "31129  1 de enero de 2019   537190  \n",
      "número de los niños= 6930117\n",
      "número de población activa= 30901362\n",
      "número de los jubilados= 9105571\n"
     ]
    }
   ],
   "source": [
    "temp=pure_df.loc[(df['Provincias']== 'Total Nacional') & \\\n",
    "     (df['Nacionalidad']== 'Total') & (df['Sexo']== 'Ambos sexos') & \\\n",
    "        (df['Periodo']== '1 de enero de 2019')]\n",
    "kids_2019= temp.loc[(temp['Grupo quinquenal de edad']== 'De 0 a 4 años') | \\\n",
    "                       (temp['Grupo quinquenal de edad']== 'De 5 a 9 años') | \\\n",
    "                        (temp['Grupo quinquenal de edad']== 'De 10 a 14 años')]\n",
    "print(kids_2019)\n",
    "num_kids_2019= kids_2019['Total'].sum()\n",
    "\n",
    "active_pplton_2019= temp.loc[(temp['Grupo quinquenal de edad']== 'De 15 a 19 años') | \\\n",
    "                       (temp['Grupo quinquenal de edad']== 'De 20 a 24 años') | \\\n",
    "                        (temp['Grupo quinquenal de edad']== 'De 25 a 29 años') | \\\n",
    "                        (temp['Grupo quinquenal de edad']== 'De 30 a 34 años') | \\\n",
    "                        (temp['Grupo quinquenal de edad']== 'De 35 a 39 años') | \\\n",
    "                        (temp['Grupo quinquenal de edad']== 'De 40 a 44 años') | \\\n",
    "                        (temp['Grupo quinquenal de edad']== 'De 45 a 49 años') | \\\n",
    "                        (temp['Grupo quinquenal de edad']== 'De 50 a 54 años') | \\\n",
    "                        (temp['Grupo quinquenal de edad']== 'De 55 a 59 años') | \\\n",
    "                        (temp['Grupo quinquenal de edad']== 'De 60 a 64 años')]\n",
    "print(active_pplton_2019)\n",
    "num_active_pplton_2019= active_pplton_2019['Total'].sum()\n",
    "\n",
    "retired_pplton_2019= temp.loc[(temp['Grupo quinquenal de edad']== 'De 65 a 69 años') | \\\n",
    "                       (temp['Grupo quinquenal de edad']== 'De 70 a 74 años') | \\\n",
    "                        (temp['Grupo quinquenal de edad']== 'De 75 a 79 años') | \\\n",
    "                        (temp['Grupo quinquenal de edad']== 'De 80 a 84 años') | \\\n",
    "                        (temp['Grupo quinquenal de edad']== 'De 85 a 89 años') |\\\n",
    "                        (temp['Grupo quinquenal de edad']== '90 y más años')] \n",
    "print(retired_pplton_2019)\n",
    "num_retired_pplton_2019= retired_pplton_2019['Total'].sum()\n",
    "\n",
    "print(f'número de los niños= {num_kids_2019}')\n",
    "print(f'número de población activa= {num_active_pplton_2019}')\n",
    "print(f'número de los jubilados= {num_retired_pplton_2019}')"
   ]
  },
  {
   "cell_type": "markdown",
   "metadata": {},
   "source": [
    "Calcular Tasa de dependencia"
   ]
  },
  {
   "cell_type": "code",
   "execution_count": 87,
   "metadata": {},
   "outputs": [
    {
     "name": "stdout",
     "output_type": "stream",
     "text": [
      "Tasa de dependencia por 2019= 0.5189314309188054\n",
      "Tasa de dependencia por 2022= 0.5164779949818277\n"
     ]
    }
   ],
   "source": [
    "dependency_ratio_2019= (float(num_kids_2019)+ float(num_retired_pplton_2019))/float(num_active_pplton_2019)\n",
    "print(f'Tasa de dependencia por 2019= {dependency_ratio_2019}')\n",
    "\n",
    "dependency_ratio_2022= (float(num_kids_2022)+ float(num_retired_pplton_2022))/float(num_active_pplton_2022)\n",
    "print(f'Tasa de dependencia por 2022= {dependency_ratio_2022}')"
   ]
  },
  {
   "cell_type": "markdown",
   "metadata": {},
   "source": [
    "Pintar los resultados"
   ]
  },
  {
   "cell_type": "code",
   "execution_count": 88,
   "metadata": {},
   "outputs": [
    {
     "data": {
      "image/png": "[encoded data removed]",
      "text/plain": [
       "<Figure size 640x480 with 1 Axes>"
      ]
     },
     "metadata": {},
     "output_type": "display_data"
    }
   ],
   "source": [
    "import matplotlib.pyplot as plt\n",
    "\n",
    "fig, ax = plt.subplots()\n",
    "\n",
    "Edad = ['0-14', '15-64', '65 y mas']\n",
    "Población = [num_kids_2022, num_active_pplton_2022, num_retired_pplton_2022]\n",
    "bar_labels = ['niños', 'activas', 'mayores']\n",
    "bar_colors = ['tab:red', 'tab:cyan', 'tab:purple']\n",
    "\n",
    "ax.bar(Edad, Población, label=bar_labels, color=bar_colors)\n",
    "\n",
    "ax.set_ylabel('Población (por Millones)')\n",
    "ax.set_xlabel('Edad')\n",
    "ax.set_title('Distribución de la población')\n",
    "ax.legend(title='Edad del grupo')\n",
    "\n",
    "plt.show()"
   ]
  }
 ],
 "metadata": {
  "kernelspec": {
   "display_name": "opencv_2",
   "language": "python",
   "name": "python3"
  },
  "language_info": {
   "codemirror_mode": {
    "name": "ipython",
    "version": 3
   },
   "file_extension": ".py",
   "mimetype": "text/x-python",
   "name": "python",
   "nbconvert_exporter": "python",
   "pygments_lexer": "ipython3",
   "version": "3.12.4"
  }
 },
 "nbformat": 4,
 "nbformat_minor": 2
}
