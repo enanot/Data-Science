{
 "cells": [
  {
   "cell_type": "code",
   "execution_count": 54,
   "id": "73d05f93-18ec-4416-be87-614e441e0e04",
   "metadata": {},
   "outputs": [],
   "source": [
    "import numpy as np"
   ]
  },
  {
   "cell_type": "markdown",
   "id": "daf28390-7884-4018-8201-89d4d8bbf6eb",
   "metadata": {},
   "source": [
    "## Ejercicio 1\n",
    "\n",
    "1-Calcular la media y la desviación estándar de una matriz: \r\n",
    "Genera una matriz de NumPy de 8 filas y 6 columnas, llena la matriz con números aleatorios entre -20 y 20. Luego, calcula la media y la desviación estándar de todos los elementos de la matriz."
   ]
  },
  {
   "cell_type": "code",
   "execution_count": 57,
   "id": "32fe1b72-8224-4846-8ac3-88e5a1f47139",
   "metadata": {},
   "outputs": [
    {
     "name": "stdout",
     "output_type": "stream",
     "text": [
      "[[ 10  17  -3  -4  -9   3]\n",
      " [-10  14 -13 -11 -11   6]\n",
      " [-18  12   9 -16  -2  13]\n",
      " [-17 -20   0  15 -17  10]\n",
      " [  7  -9  -8  17  -4   0]\n",
      " [ 14   7 -15  -4  -6   2]\n",
      " [-12  15   6  18  14  13]\n",
      " [-18 -14   1  15  -4  -1]]\n",
      "---------------------\n",
      "-0.16666666666666666\n",
      "---------------------\n",
      "11.554821023663191\n",
      "---------------------\n"
     ]
    }
   ],
   "source": [
    "arr1 = np.random.randint(-20,21,[8,6])\n",
    "print(arr1)\n",
    "\n",
    "std= arr1.std() \n",
    "arr1m= arr1.mean()\n",
    "print(\"---------------------\")\n",
    "print(arr1m)\n",
    "print(\"---------------------\")\n",
    "print(std)\n",
    "print(\"---------------------\")"
   ]
  },
  {
   "cell_type": "markdown",
   "id": "33b4b75f-8a48-4847-b8b5-beb374cbfb60",
   "metadata": {},
   "source": [
    "Podemos ver la matriz, debajo la media aritmética y su desviación estandar. Se han usado los metodos mean(media) y std(desviació estandar)"
   ]
  },
  {
   "cell_type": "markdown",
   "id": "306e6420-5acc-4c55-b7f5-23f7841bef94",
   "metadata": {},
   "source": [
    "## Ejercicio 2\n",
    "2- Transponer una matriz. \r\n",
    "Crea una matriz de NumPy de 4 filas y 7 columnas, llena la matriz con números aleatorios entre 0 y 100. Luego, transpón la matriz y muestra el resultado."
   ]
  },
  {
   "cell_type": "code",
   "execution_count": 61,
   "id": "b01348a8-bb23-4911-b236-9e467daa94b0",
   "metadata": {
    "scrolled": true
   },
   "outputs": [
    {
     "name": "stdout",
     "output_type": "stream",
     "text": [
      "[[59 73 52  9 85 34 98]\n",
      " [91  3 55 81 87 79 16]\n",
      " [ 3 62 23 25 80 37 38]\n",
      " [22  7 30 63 59  0 32]]\n",
      "---------------------\n",
      "[[59 91  3 22]\n",
      " [73  3 62  7]\n",
      " [52 55 23 30]\n",
      " [ 9 81 25 63]\n",
      " [85 87 80 59]\n",
      " [34 79 37  0]\n",
      " [98 16 38 32]]\n"
     ]
    }
   ],
   "source": [
    "arr2 = np.random.randint(0,101,[4,7])\n",
    "print(arr2)\n",
    "arr2T=arr2.transpose()\n",
    "print(\"---------------------\")\n",
    "print(arr2T)"
   ]
  },
  {
   "cell_type": "markdown",
   "id": "4f082f31-ecba-470f-b336-11ecd0ea1d82",
   "metadata": {},
   "source": [
    "Podemos ver la matriz llamada arr2 y  debajo su transpuesta. Se ha usado el metodo transpose()."
   ]
  },
  {
   "cell_type": "markdown",
   "id": "845caf24-1067-4fba-a67d-19ea38fb26b4",
   "metadata": {},
   "source": [
    "## Ejercicio 3\n",
    "3- Crear una matriz 3D  \n",
    "Escribe un programa que cree una matriz 3D de NumPy con 2 planos, 3 filas y 4 columnas. \n",
    "Llena cada elemento de la matriz con un número aleatorio entre 0 y 100."
   ]
  },
  {
   "cell_type": "code",
   "execution_count": 65,
   "id": "2dee8302-c321-4a54-80d6-4245a650bb33",
   "metadata": {},
   "outputs": [
    {
     "name": "stdout",
     "output_type": "stream",
     "text": [
      "[[[10  1 91 65]\n",
      "  [59 97 42 90]\n",
      "  [96 66 20 99]]\n",
      "\n",
      " [[96 48 10 61]\n",
      "  [87 60 83 35]\n",
      "  [ 7 68 75 86]]]\n"
     ]
    }
   ],
   "source": [
    "arr3 = np.random.randint(0,101,[2,3,4])\n",
    "print(arr3)\n",
    "\n"
   ]
  },
  {
   "cell_type": "markdown",
   "id": "b15211b7-a0dd-4c5a-8381-8a73e302b582",
   "metadata": {},
   "source": [
    "Podemos ver la matriz generada, de 2x3x4"
   ]
  }
 ],
 "metadata": {
  "kernelspec": {
   "display_name": "Python 3 (ipykernel)",
   "language": "python",
   "name": "python3"
  },
  "language_info": {
   "codemirror_mode": {
    "name": "ipython",
    "version": 3
   },
   "file_extension": ".py",
   "mimetype": "text/x-python",
   "name": "python",
   "nbconvert_exporter": "python",
   "pygments_lexer": "ipython3",
   "version": "3.12.4"
  }
 },
 "nbformat": 4,
 "nbformat_minor": 5
}
